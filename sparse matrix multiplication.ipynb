{
 "cells": [
  {
   "cell_type": "code",
   "execution_count": 1,
   "id": "11042ac8",
   "metadata": {},
   "outputs": [
    {
     "data": {
      "text/plain": [
       "array([[ 0,  8,  0],\n",
       "       [ 0,  0,  9],\n",
       "       [16,  0,  0]], dtype=int32)"
      ]
     },
     "execution_count": 1,
     "metadata": {},
     "output_type": "execute_result"
    }
   ],
   "source": [
    "import numpy as np \n",
    "from scipy.sparse import  csc_matrix\n",
    "row=np.array([0,1,2])\n",
    "col=np.array([1,2,0])\n",
    "data=np.array([8,9,16])\n",
    "A=csc_matrix((data,(row,col)),shape=(3,3))\n",
    "A.toarray()"
   ]
  },
  {
   "cell_type": "code",
   "execution_count": 2,
   "id": "70475a63",
   "metadata": {},
   "outputs": [
    {
     "data": {
      "text/plain": [
       "array([[0, 2, 0],\n",
       "       [6, 0, 0],\n",
       "       [0, 0, 8]], dtype=int32)"
      ]
     },
     "execution_count": 2,
     "metadata": {},
     "output_type": "execute_result"
    }
   ],
   "source": [
    "row=np.array([1,0,2])\n",
    "col=np.array([0,1,2])\n",
    "data=np.array([6,2,8])\n",
    "B=csc_matrix((data,(row,col)),shape=(3,3))\n",
    "B.toarray()"
   ]
  },
  {
   "cell_type": "code",
   "execution_count": 3,
   "id": "6a826f86",
   "metadata": {},
   "outputs": [
    {
     "data": {
      "text/plain": [
       "array([[ 0, 16,  0],\n",
       "       [ 0,  0,  0],\n",
       "       [ 0,  0,  0]], dtype=int32)"
      ]
     },
     "execution_count": 3,
     "metadata": {},
     "output_type": "execute_result"
    }
   ],
   "source": [
    "AB=A.multiply(B)\n",
    "AB.toarray()"
   ]
  }
 ],
 "metadata": {
  "kernelspec": {
   "display_name": "Python 3 (ipykernel)",
   "language": "python",
   "name": "python3"
  },
  "language_info": {
   "codemirror_mode": {
    "name": "ipython",
    "version": 3
   },
   "file_extension": ".py",
   "mimetype": "text/x-python",
   "name": "python",
   "nbconvert_exporter": "python",
   "pygments_lexer": "ipython3",
   "version": "3.9.7"
  }
 },
 "nbformat": 4,
 "nbformat_minor": 5
}
